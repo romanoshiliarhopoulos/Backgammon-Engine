{
 "cells": [
  {
   "cell_type": "markdown",
   "id": "159af7c1",
   "metadata": {},
   "source": []
  },
  {
   "cell_type": "code",
   "execution_count": 2,
   "id": "71bdcc0f",
   "metadata": {},
   "outputs": [],
   "source": [
    "encoded_state = [0] * 198"
   ]
  }
 ],
 "metadata": {
  "kernelspec": {
   "display_name": "backgammon-engine-py3.10",
   "language": "python",
   "name": "python3"
  },
  "language_info": {
   "codemirror_mode": {
    "name": "ipython",
    "version": 3
   },
   "file_extension": ".py",
   "mimetype": "text/x-python",
   "name": "python",
   "nbconvert_exporter": "python",
   "pygments_lexer": "ipython3",
   "version": "3.10.13"
  }
 },
 "nbformat": 4,
 "nbformat_minor": 5
}
